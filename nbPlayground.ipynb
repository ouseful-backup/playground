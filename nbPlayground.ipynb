{
 "cells": [
  {
   "cell_type": "markdown",
   "metadata": {},
   "source": [
    "# nbTensorFlowPlayground\n",
    "\n",
    "For starters, how far can we get just embedding the TensorFlow playground HTML in an IFrame?\n",
    "\n",
    "Each control in the playground is configurable via a URL fragment; in addition, the display of many of the controls can be suppressed, allowing the activity to be constrained to a particular configuration."
   ]
  },
  {
   "cell_type": "code",
   "execution_count": 9,
   "metadata": {},
   "outputs": [],
   "source": [
    "## Seems to only work properly if we access the playground vian an httpserver\n",
    "# In terminal root (production container should autorun this)\n",
    "# nohup python3 -m http.server 8999 --directory tensorflow_playground &"
   ]
  },
  {
   "cell_type": "markdown",
   "metadata": {},
   "source": [
    "We can access the page via a `jupyter-server-proxy` path:"
   ]
  },
  {
   "cell_type": "markdown",
   "metadata": {},
   "source": [
    "### Hiding Options and Parameter Values\n",
    "\n",
    "\n",
    "Hide options are `=true` / `=false`; *none* options can have the argument omitted;\n",
    "\n",
    "Toolbar:\n",
    "- Play buttons:\n",
    "  - `resetButton_hide`:\n",
    "  - `playButton_hide`:\n",
    "  - `stepButton_hide`:\n",
    "\n",
    "- Parameters:\n",
    "  - `learningRate_hide`,  `learningRate` [*0.00001*, *0.0001*, *0.001*, *0.003*, *0.01*, *0.03*, *0.1*, *0.3*, *1*, *3*, *10*];\n",
    "  - `activation_hide`, `activation` [*relu*, *tanh*, *sigmoid*, *linear*];\n",
    "- `regularization_hide`, `regularization` [*none*, *L1*, *L2*];\n",
    "- `regularizationRate_hide`, `regularizationRate` [*0*, *0.001*, *0.001*, *0.003*, *0.01*, *0.01*, *0.03*, *0.1*, *0.3*, *1*, *3*, *10*];\n",
    "- `problem_hide`, `problem` [*classification*, *regression*];\n",
    "\n",
    "Central panel:\n",
    "- `numHiddenLayers_hide`, `networkShape` [ *`int`,`int`*, eg `=4.2`];\n",
    "\n",
    "Left sidebar:\n",
    "- `dataset_hide`, `dataset` [*circle*, *xor*, *gauss*, *spiral*}, `reg_dataset` [*reg-plane*, *reg-gauss*]; this is sensitive to the `problem` selection;\n",
    "- `percTrainData_hide`,  `percTrainData` (`int` in range (0, 100)];\n",
    "- `noise_hide`, `noise` [0..50 step 5];\n",
    "- `batchSize_hide`, `batchSize` [1..30 step 1] (10);\n",
    "\n",
    "Bottom right:\n",
    "- `showTestData_hide`, `showTestData` [*false*, *true*];\n",
    "- `discretize_hide`, `discretize` [*false*, *true*].\n",
    "\n",
    "\n",
    "Other parameters:\n",
    "\n",
    "- `seed` [float 0..1];\n",
    "- `initZero` [`false`, `true`]; initialise hidden and output neuron display to zero;\n",
    "\n",
    "\n",
    "## Model features\n",
    "\n",
    "Shown with default values:\n",
    "\n",
    "- `x=true`\n",
    "- `y=true`\n",
    "- `xTimesY=false`\n",
    "- `xSquared=false`\n",
    "- `ySquared=false`\n",
    "- `cosX=false`\n",
    "- `sinX=false`\n",
    "- `cosY=false`\n",
    "- `sinY=false`\n",
    "\n"
   ]
  },
  {
   "cell_type": "code",
   "execution_count": 16,
   "metadata": {},
   "outputs": [
    {
     "data": {
      "text/html": [
       "\n",
       "        <iframe\n",
       "            width=\"1000\"\n",
       "            height=\"900\"\n",
       "            src=\"/proxy/8999/index_min.html#activation=tanh&batchSize=10&dataset=circle&regDataset=reg-plane&learningRate=0.3&regularizationRate=0&noise=40&networkShape=6,3&seed=0.24774&showTestData=true&discretize=false&percTrainData=50&x=true&y=true&xTimesY=false&xSquared=false&ySquared=false&cosX=false&sinX=false&cosY=false&sinY=false&collectStats=false&problem=classification&initZero=false&hideText=false\"\n",
       "            frameborder=\"0\"\n",
       "            allowfullscreen\n",
       "        ></iframe>\n",
       "        "
      ],
      "text/plain": [
       "<IPython.lib.display.IFrame at 0x7f63346b5850>"
      ]
     },
     "execution_count": 16,
     "metadata": {},
     "output_type": "execute_result"
    }
   ],
   "source": [
    "from IPython.display import IFrame\n",
    "\n",
    "url = '/proxy/8999/index_min.html#activation=tanh&batchSize=10&dataset=circle&regDataset=reg-plane&learningRate=0.3&regularizationRate=0&noise=40&networkShape=6,3&seed=0.24774&showTestData=true&discretize=false&percTrainData=50&x=true&y=true&xTimesY=false&xSquared=false&ySquared=false&cosX=false&sinX=false&cosY=false&sinY=false&collectStats=false&problem=classification&initZero=false&hideText=false'\n",
    "\n",
    "a  = IFrame(url, height=900, width=1000)\n",
    "a"
   ]
  },
  {
   "cell_type": "markdown",
   "metadata": {
    "lines_to_next_cell": 2
   },
   "source": [
    "## TO DO\n",
    "\n",
    "Need to find a way of saving the config back out from the Playground to a URL we can use in the notebook. Unless we move the controls out of the Playground and into ipywidgets? Though would this complicate running things purely in the browser?\n",
    "\n",
    "Could / should we use a similar approach for hiding elements in the simulator?"
   ]
  },
  {
   "cell_type": "code",
   "execution_count": null,
   "metadata": {
    "lines_to_next_cell": 2
   },
   "outputs": [],
   "source": []
  },
  {
   "cell_type": "code",
   "execution_count": null,
   "metadata": {},
   "outputs": [],
   "source": []
  },
  {
   "cell_type": "code",
   "execution_count": null,
   "metadata": {
    "lines_to_next_cell": 2
   },
   "outputs": [],
   "source": []
  }
 ],
 "metadata": {
  "jupytext": {
   "formats": "ipynb,py:light"
  },
  "kernelspec": {
   "display_name": "Python 3",
   "language": "python",
   "name": "python3"
  },
  "language_info": {
   "codemirror_mode": {
    "name": "ipython",
    "version": 3
   },
   "file_extension": ".py",
   "mimetype": "text/x-python",
   "name": "python",
   "nbconvert_exporter": "python",
   "pygments_lexer": "ipython3",
   "version": "3.7.6"
  }
 },
 "nbformat": 4,
 "nbformat_minor": 4
}
